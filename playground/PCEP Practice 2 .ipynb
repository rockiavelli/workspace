{
 "cells": [
  {
   "cell_type": "code",
   "execution_count": 1,
   "id": "cc124ed1",
   "metadata": {},
   "outputs": [],
   "source": [
    "def is_year_leap(year):\n",
    "    is_leap = False # setting default\n",
    "    \n",
    "    if year % 4 == 0:\n",
    "        \n",
    "        if year % 100 == 0:\n",
    "            \n",
    "            if year % 400 == 0:\n",
    "                \n",
    "                is_leap = True\n",
    "            \n",
    "        else:\n",
    "            \n",
    "            is_leap = True\n",
    "            \n",
    "    return is_leap"
   ]
  },
  {
   "cell_type": "code",
   "execution_count": 4,
   "id": "a4f0400a",
   "metadata": {},
   "outputs": [
    {
     "name": "stdout",
     "output_type": "stream",
     "text": [
      "True\n",
      "False\n",
      "True\n"
     ]
    }
   ],
   "source": [
    "print(is_year_leap(2000))\n",
    "print(is_year_leap(1999))\n",
    "print(is_year_leap(2016))"
   ]
  },
  {
   "cell_type": "code",
   "execution_count": 5,
   "id": "77fda70f",
   "metadata": {},
   "outputs": [],
   "source": [
    "def test_is_year_leap():\n",
    "    \n",
    "    assert is_year_leap(2000) # Assert forces Python to return an error if False, \n",
    "                              # should confirm function returns True for year 2000\n",
    "        \n",
    "    assert not is_year_leap(1999)\n",
    "    \n",
    "    assert is_year_leap(2016)"
   ]
  },
  {
   "cell_type": "code",
   "execution_count": null,
   "id": "739ea396",
   "metadata": {},
   "outputs": [],
   "source": []
  }
 ],
 "metadata": {
  "kernelspec": {
   "display_name": "Python 3 (ipykernel)",
   "language": "python",
   "name": "python3"
  },
  "language_info": {
   "codemirror_mode": {
    "name": "ipython",
    "version": 3
   },
   "file_extension": ".py",
   "mimetype": "text/x-python",
   "name": "python",
   "nbconvert_exporter": "python",
   "pygments_lexer": "ipython3",
   "version": "3.9.7"
  }
 },
 "nbformat": 4,
 "nbformat_minor": 5
}
